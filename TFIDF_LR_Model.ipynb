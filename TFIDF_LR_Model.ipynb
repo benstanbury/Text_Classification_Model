{
 "cells": [
  {
   "cell_type": "markdown",
   "metadata": {},
   "source": [
    "# Tfidf Logistic Regression Classifier"
   ]
  },
  {
   "cell_type": "markdown",
   "metadata": {},
   "source": [
    "### Introduction"
   ]
  },
  {
   "cell_type": "markdown",
   "metadata": {},
   "source": [
    "This is a simple introduciton to text classifciation in Python. We will take thousands of movie reviews and use them to predict the sentiment of unseen reviews. \n",
    "\n",
    "The sample has been taken [Kaggle]( https://www.kaggle.com/c/word2vec-nlp-tutorial/data) (labelledTrainData.tsv). If you save this file to your desktop and reference the folder on your machine then you should be able to replicate the results. \n",
    "    \n",
    "We will call upon powerful Python libraries **nltk** and **scikitlearn**. We will also use the pipeline process to build a term frequency-inverse document frequency (tfidf) based logistic regression model. We will consider a few parameter options and use cross validation methods.~\n"
   ]
  },
  {
   "cell_type": "markdown",
   "metadata": {},
   "source": [
    "### Import Packages"
   ]
  },
  {
   "cell_type": "code",
   "execution_count": 1,
   "metadata": {
    "collapsed": true
   },
   "outputs": [],
   "source": [
    "#Change this to the location of your data. This is my location...\n",
    "Path=\"/home/laptopadmin/Documents/Git/Text_Classification_Model/labeledTrainData.tsv\""
   ]
  },
  {
   "cell_type": "code",
   "execution_count": 2,
   "metadata": {
    "collapsed": true
   },
   "outputs": [],
   "source": [
    "import pandas as pd\n",
    "import numpy as np\n",
    "import nltk\n",
    "\n",
    "import warnings #Using Python 2.7. There will be some version warnings that we don't need to see.\n",
    "warnings.filterwarnings(\"ignore\")\n",
    "\n",
    "#from sklearn.externals import joblib #I will add this back in when I'm ready to pickle the data.\n",
    "\n",
    "from nltk.corpus import stopwords\n",
    "stopwords=set(stopwords.words('english'))"
   ]
  },
  {
   "cell_type": "markdown",
   "metadata": {},
   "source": [
    "### Read data"
   ]
  },
  {
   "cell_type": "markdown",
   "metadata": {},
   "source": [
    "In this example there are two key columns.\n",
    "- A \"Sentiment\" column indicating whether someone liked or disliked the movie.\n",
    "- A \"Review\" column containing the review itself."
   ]
  },
  {
   "cell_type": "markdown",
   "metadata": {},
   "source": [
    "Next let's just take a quick look at our data to check everything looks okay."
   ]
  },
  {
   "cell_type": "code",
   "execution_count": 3,
   "metadata": {
    "collapsed": true
   },
   "outputs": [],
   "source": [
    "moviedata = pd.read_csv(Path, header=0, delimiter=\"\\t\", quoting=3)"
   ]
  },
  {
   "cell_type": "code",
   "execution_count": 4,
   "metadata": {},
   "outputs": [
    {
     "data": {
      "text/html": [
       "<div>\n",
       "<style scoped>\n",
       "    .dataframe tbody tr th:only-of-type {\n",
       "        vertical-align: middle;\n",
       "    }\n",
       "\n",
       "    .dataframe tbody tr th {\n",
       "        vertical-align: top;\n",
       "    }\n",
       "\n",
       "    .dataframe thead th {\n",
       "        text-align: right;\n",
       "    }\n",
       "</style>\n",
       "<table border=\"1\" class=\"dataframe\">\n",
       "  <thead>\n",
       "    <tr style=\"text-align: right;\">\n",
       "      <th></th>\n",
       "      <th>id</th>\n",
       "      <th>sentiment</th>\n",
       "      <th>review</th>\n",
       "    </tr>\n",
       "  </thead>\n",
       "  <tbody>\n",
       "    <tr>\n",
       "      <th>0</th>\n",
       "      <td>\"5814_8\"</td>\n",
       "      <td>1</td>\n",
       "      <td>\"With all this stuff going down at the moment ...</td>\n",
       "    </tr>\n",
       "    <tr>\n",
       "      <th>1</th>\n",
       "      <td>\"2381_9\"</td>\n",
       "      <td>1</td>\n",
       "      <td>\"\\\"The Classic War of the Worlds\\\" by Timothy ...</td>\n",
       "    </tr>\n",
       "    <tr>\n",
       "      <th>2</th>\n",
       "      <td>\"7759_3\"</td>\n",
       "      <td>0</td>\n",
       "      <td>\"The film starts with a manager (Nicholas Bell...</td>\n",
       "    </tr>\n",
       "    <tr>\n",
       "      <th>3</th>\n",
       "      <td>\"3630_4\"</td>\n",
       "      <td>0</td>\n",
       "      <td>\"It must be assumed that those who praised thi...</td>\n",
       "    </tr>\n",
       "    <tr>\n",
       "      <th>4</th>\n",
       "      <td>\"9495_8\"</td>\n",
       "      <td>1</td>\n",
       "      <td>\"Superbly trashy and wondrously unpretentious ...</td>\n",
       "    </tr>\n",
       "  </tbody>\n",
       "</table>\n",
       "</div>"
      ],
      "text/plain": [
       "         id  sentiment                                             review\n",
       "0  \"5814_8\"          1  \"With all this stuff going down at the moment ...\n",
       "1  \"2381_9\"          1  \"\\\"The Classic War of the Worlds\\\" by Timothy ...\n",
       "2  \"7759_3\"          0  \"The film starts with a manager (Nicholas Bell...\n",
       "3  \"3630_4\"          0  \"It must be assumed that those who praised thi...\n",
       "4  \"9495_8\"          1  \"Superbly trashy and wondrously unpretentious ..."
      ]
     },
     "execution_count": 4,
     "metadata": {},
     "output_type": "execute_result"
    }
   ],
   "source": [
    "moviedata[0:5]"
   ]
  },
  {
   "cell_type": "code",
   "execution_count": 5,
   "metadata": {},
   "outputs": [
    {
     "data": {
      "text/plain": [
       "'\"I watched this movie really late last night and usually if it\\'s late then I\\'m pretty forgiving of movies. Although I tried, I just could not stand this movie at all, it kept getting worse and worse as the movie went on. Although I know it\\'s suppose to be a comedy but I didn\\'t find it very funny. It was also an especially unrealistic, and jaded portrayal of rural life. In case this is what any of you think country life is like, it\\'s definitely not. I do have to agree that some of the guy cast members were cute, but the french guy was really fake. I do have to agree that it tried to have a good lesson in the story, but overall my recommendation is that no one over 8 watch it, it\\'s just too annoying.\"'"
      ]
     },
     "execution_count": 5,
     "metadata": {},
     "output_type": "execute_result"
    }
   ],
   "source": [
    "moviedata.review[1000]"
   ]
  },
  {
   "cell_type": "markdown",
   "metadata": {},
   "source": [
    "#### Let's check how much data we have and check whether we have an even split."
   ]
  },
  {
   "cell_type": "code",
   "execution_count": 6,
   "metadata": {},
   "outputs": [
    {
     "data": {
      "text/html": [
       "<div>\n",
       "<style scoped>\n",
       "    .dataframe tbody tr th:only-of-type {\n",
       "        vertical-align: middle;\n",
       "    }\n",
       "\n",
       "    .dataframe tbody tr th {\n",
       "        vertical-align: top;\n",
       "    }\n",
       "\n",
       "    .dataframe thead th {\n",
       "        text-align: right;\n",
       "    }\n",
       "</style>\n",
       "<table border=\"1\" class=\"dataframe\">\n",
       "  <thead>\n",
       "    <tr style=\"text-align: right;\">\n",
       "      <th></th>\n",
       "      <th>id</th>\n",
       "      <th>review</th>\n",
       "    </tr>\n",
       "    <tr>\n",
       "      <th>sentiment</th>\n",
       "      <th></th>\n",
       "      <th></th>\n",
       "    </tr>\n",
       "  </thead>\n",
       "  <tbody>\n",
       "    <tr>\n",
       "      <th>0</th>\n",
       "      <td>12500</td>\n",
       "      <td>12500</td>\n",
       "    </tr>\n",
       "    <tr>\n",
       "      <th>1</th>\n",
       "      <td>12500</td>\n",
       "      <td>12500</td>\n",
       "    </tr>\n",
       "  </tbody>\n",
       "</table>\n",
       "</div>"
      ],
      "text/plain": [
       "              id  review\n",
       "sentiment               \n",
       "0          12500   12500\n",
       "1          12500   12500"
      ]
     },
     "execution_count": 6,
     "metadata": {},
     "output_type": "execute_result"
    }
   ],
   "source": [
    "moviedata.groupby(\"sentiment\").count()"
   ]
  },
  {
   "cell_type": "markdown",
   "metadata": {},
   "source": [
    "It looks like we have 25,000 items of data, evenly spread"
   ]
  },
  {
   "cell_type": "markdown",
   "metadata": {},
   "source": [
    "### Import more libraries"
   ]
  },
  {
   "cell_type": "markdown",
   "metadata": {},
   "source": [
    "Okay so we've got a bunch of scikit learn stuff to import here. "
   ]
  },
  {
   "cell_type": "code",
   "execution_count": 7,
   "metadata": {
    "collapsed": true
   },
   "outputs": [],
   "source": [
    "from sklearn.pipeline import Pipeline\n",
    "\n",
    "from sklearn.feature_extraction.text import CountVectorizer, TfidfTransformer, TfidfVectorizer\n",
    "\n",
    "from sklearn.cross_validation import train_test_split, cross_val_score #Note train_test_split has moved around depending on the Python version \n",
    "\n",
    "from sklearn.linear_model import LogisticRegression\n",
    "#from sklearn.naive_bayes import MultinomialNB, BernoulliNB\n",
    "#from sklearn.linear_model import SGDClassifier\n",
    "#from sklearn.svm import SVC, LinearSVC, NuSVC\n",
    "#from sklearn.tree import DecisionTreeClassifier\n",
    "\n",
    "from sklearn.model_selection import GridSearchCV\n",
    "from sklearn.grid_search import RandomizedSearchCV\n",
    "\n",
    "from sklearn.metrics import classification_report, confusion_matrix, roc_curve"
   ]
  },
  {
   "cell_type": "markdown",
   "metadata": {},
   "source": [
    "### Test Train Split"
   ]
  },
  {
   "cell_type": "markdown",
   "metadata": {},
   "source": [
    "Next we create our train and test sets. We will use a 70:30 split. The approach here is the standard one used in scikit learn. Once we have our data in X_train, X_test, y_train and y_test we will have an enormous amount of flexibility wtih what we can do with the data."
   ]
  },
  {
   "cell_type": "code",
   "execution_count": 8,
   "metadata": {},
   "outputs": [
    {
     "name": "stdout",
     "output_type": "stream",
     "text": [
      "train length:  17500 \n",
      "test length:  7500 \n",
      "overall length:  25000\n"
     ]
    }
   ],
   "source": [
    "X=moviedata['review']\n",
    "y=moviedata['sentiment']\n",
    "\n",
    "X_train, X_test, y_train, y_test = \\\n",
    "train_test_split(X, y, test_size=0.3)\n",
    "\n",
    "print(\"train length: \", len(X_train),\n",
    "      \"\\ntest length: \", len(X_test),\n",
    "      \"\\noverall length: \", len(y_train) + len(y_test))"
   ]
  },
  {
   "cell_type": "markdown",
   "metadata": {},
   "source": [
    "### Tfidf-Logistic Regresison Pipeline"
   ]
  },
  {
   "cell_type": "markdown",
   "metadata": {},
   "source": [
    "Quite a few things happen in this stage. Firstly we use **pipeline** to join together three processes straightforwardly. The three components are as follows:\n",
    "\n",
    "1. We first use a [CountVectorizer](http://scikit-learn.org/stable/modules/generated/sklearn.feature_extraction.text.CountVectorizer.html). This is a big matrix containing every document in one dimension and every word in the other. The cells are populated with counts.\n",
    "\n",
    "2. Next we use a [TfidfTransformer](http://scikit-learn.org/stable/modules/generated/sklearn.feature_extraction.text.TfidfTransformer.html). This transforms the count data into tf-idf scores. Tf-idf is a method intended to reflect how important a word is to a document in a corpus (a collection of documents). The tf-idf score will increase the  more times it appears in a document but is offset by the frequency of the word in the corpus. There are some words that occur very frequently in general and they will be penalised using this method. \n",
    "\n",
    "3. Finally we use [Logistic Regression](http://scikit-learn.org/stable/modules/generated/sklearn.linear_model.LogisticRegression.html). This is a model used to predict binary outcomes. In this case we are predicting whether or not a review is positive based on the words in the document.\n",
    "\n",
    "Once this pipeline is created we can use [GridSearchCV](http://scikit-learn.org/stable/modules/generated/sklearn.model_selection.GridSearchCV.html) or [RandomisedSearchCV](http://scikit-learn.org/stable/modules/generated/sklearn.model_selection.RandomizedSearchCV.html). These powerful functions have two important properties.\n",
    "\n",
    "- Firstly they enables us to try out a wide range of parameter model choices. GridSearch will explore all  permutations, whereas RandomisedSearch will cover just some of them.\n",
    "\n",
    "- Secondly they perform cross validation on the data. This is a method for partitioning the data into a training and validation set multiple times using different permutations.\n",
    "\n",
    "**GridSearchCV** can take a considerable time to run. We can improve computational expense using **RandomisedSearchCV** instead which is what we do here.\n",
    "\n",
    "We can feed RandomisedSearchCV a number of parameter options:\n",
    "- ngram_range tells is whether we want single words, bigrams of trigrams\n",
    "- min_df removes words that only appear in a small number of documents (df stands for document frequency).\n",
    "- max_df removes words that appear in more than a certain numnber of documents\n",
    "- C is a regulirisation paramater for Logisitic Regression that helps prevent overfitting by downweighting some of the model parameters."
   ]
  },
  {
   "cell_type": "code",
   "execution_count": 9,
   "metadata": {},
   "outputs": [
    {
     "data": {
      "text/plain": [
       "RandomizedSearchCV(cv=5, error_score='raise',\n",
       "          estimator=Pipeline(memory=None,\n",
       "     steps=[('vec', CountVectorizer(analyzer='word', binary=False, decode_error='strict',\n",
       "        dtype=<class 'numpy.int64'>, encoding='utf-8', input='content',\n",
       "        lowercase=True, max_df=1.0, max_features=None, min_df=1,\n",
       "        ngram_range=(1, 1), preprocessor=None,\n",
       "        stop_words={'a', 'could...ty='l2', random_state=None, solver='liblinear', tol=0.0001,\n",
       "          verbose=0, warm_start=False))]),\n",
       "          fit_params={}, iid=True, n_iter=8, n_jobs=1,\n",
       "          param_distributions={'vec__ngram_range': [(1, 1), (1, 2), (1, 3)], 'vec__min_df': [2, 3, 4], 'classifier__C': [1, 10, 20]},\n",
       "          pre_dispatch='2*n_jobs', random_state=None, refit=True,\n",
       "          scoring='accuracy', verbose=0)"
      ]
     },
     "execution_count": 9,
     "metadata": {},
     "output_type": "execute_result"
    }
   ],
   "source": [
    "pipeline = Pipeline([\n",
    "    ('vec', CountVectorizer(stop_words=stopwords)), \n",
    "    ('tfidf', TfidfTransformer()), \n",
    "    ('classifier', LogisticRegression())  \n",
    "])\n",
    "\n",
    "\n",
    "ngram_range=[(1,1),(1, 2),(1,3)] #single words, bigrams and trigrams\n",
    "min_df=[2,3,4] #kick out words that occur in less than 3 or 4 documents\n",
    "#max_df=[0.5,1] #kick out words occuring in more than half the documents or don't.\n",
    "#use_idf=[True, False] #use idf as part of tfidf. This is boolean.\n",
    "Cs = [1, 10, 20] #Regularisation paramater for the logistic regression\n",
    "#alpha=[.1] #Smoothing if using multinomial bayes\n",
    "\n",
    "params= dict(vec__ngram_range=ngram_range,\n",
    "                              vec__min_df=min_df,\n",
    "                              #vec__max_df=max_df, \n",
    "                              #tfidf__use_idf=use_idf\n",
    "                              #classifier__alpha=alpha\n",
    "                              classifier__C=Cs)\n",
    "            \n",
    "#grid = GridSearchCV(pipeline, params,cv=2, scoring='accuracy')\n",
    "rand = RandomizedSearchCV(pipeline, params, cv=5, scoring='accuracy', n_iter=8, )\n",
    "\n",
    "rand.fit(X_train, y_train)\n",
    "\n",
    "#To run other models can replace the classifier using any of the following lines:\n",
    "#('classifier', Logistic Regression())\n",
    "#('classifier', MultinomialNB())\n",
    "#('classifier', BernoulliNB())\n",
    "#('classifier', SGDClassifier())  \n",
    "#('classifier', SVC()) \n",
    "#('classifier', LinearSVC())\n",
    "#('classifier', DecisionTreeClassifier()) "
   ]
  },
  {
   "cell_type": "markdown",
   "metadata": {},
   "source": [
    "### Model Review"
   ]
  },
  {
   "cell_type": "markdown",
   "metadata": {},
   "source": [
    "We can take a look at the results of the numerous permutations of parameter combinations."
   ]
  },
  {
   "cell_type": "code",
   "execution_count": 10,
   "metadata": {},
   "outputs": [
    {
     "data": {
      "text/plain": [
       "[mean: 0.88606, std: 0.00820, params: {'vec__ngram_range': (1, 3), 'vec__min_df': 3, 'classifier__C': 1},\n",
       " mean: 0.89314, std: 0.00600, params: {'vec__ngram_range': (1, 2), 'vec__min_df': 4, 'classifier__C': 20},\n",
       " mean: 0.89423, std: 0.00706, params: {'vec__ngram_range': (1, 3), 'vec__min_df': 2, 'classifier__C': 10},\n",
       " mean: 0.88840, std: 0.00533, params: {'vec__ngram_range': (1, 1), 'vec__min_df': 4, 'classifier__C': 10},\n",
       " mean: 0.88846, std: 0.00508, params: {'vec__ngram_range': (1, 1), 'vec__min_df': 3, 'classifier__C': 10},\n",
       " mean: 0.88554, std: 0.00848, params: {'vec__ngram_range': (1, 2), 'vec__min_df': 3, 'classifier__C': 1},\n",
       " mean: 0.88514, std: 0.00571, params: {'vec__ngram_range': (1, 1), 'vec__min_df': 4, 'classifier__C': 1},\n",
       " mean: 0.88954, std: 0.00480, params: {'vec__ngram_range': (1, 1), 'vec__min_df': 2, 'classifier__C': 10}]"
      ]
     },
     "execution_count": 10,
     "metadata": {},
     "output_type": "execute_result"
    }
   ],
   "source": [
    "rand.grid_scores_"
   ]
  },
  {
   "cell_type": "markdown",
   "metadata": {},
   "source": [
    "Let's look at the first result in more detail. We cansee what parameters were fitted, what the cross validation scores were and what the mean of those scores was."
   ]
  },
  {
   "cell_type": "code",
   "execution_count": 11,
   "metadata": {},
   "outputs": [
    {
     "name": "stdout",
     "output_type": "stream",
     "text": [
      "{'vec__ngram_range': (1, 3), 'vec__min_df': 3, 'classifier__C': 1}\n",
      "[ 0.89        0.87657143  0.87885714  0.88542857  0.89942857]\n",
      "0.8860571428571429\n"
     ]
    }
   ],
   "source": [
    "print(rand.grid_scores_[0].parameters)\n",
    "print(rand.grid_scores_[0].cv_validation_scores)\n",
    "print(rand.grid_scores_[0].mean_validation_score)"
   ]
  },
  {
   "cell_type": "markdown",
   "metadata": {},
   "source": [
    "Okay so this one was okay but it wasn't the best. Let's take a look at the best results."
   ]
  },
  {
   "cell_type": "code",
   "execution_count": 12,
   "metadata": {},
   "outputs": [
    {
     "name": "stdout",
     "output_type": "stream",
     "text": [
      "0.8942285714285715\n",
      "{'vec__ngram_range': (1, 3), 'vec__min_df': 2, 'classifier__C': 10}\n"
     ]
    }
   ],
   "source": [
    "# examine the best model\n",
    "print(rand.best_score_)\n",
    "print(rand.best_params_)"
   ]
  },
  {
   "cell_type": "markdown",
   "metadata": {},
   "source": [
    "We will now take this favoured model. Run it on the unused test sets and look at some classification stats. "
   ]
  },
  {
   "cell_type": "markdown",
   "metadata": {},
   "source": [
    "### Model Evaluation"
   ]
  },
  {
   "cell_type": "markdown",
   "metadata": {},
   "source": [
    "First lets check the performance of the model. We are most interested in the result of the test set since the model wasn't fitted on that data. Lets do that."
   ]
  },
  {
   "cell_type": "code",
   "execution_count": 13,
   "metadata": {
    "collapsed": true
   },
   "outputs": [],
   "source": [
    "predictions_test=rand.predict(X_test)"
   ]
  },
  {
   "cell_type": "code",
   "execution_count": 14,
   "metadata": {},
   "outputs": [
    {
     "name": "stdout",
     "output_type": "stream",
     "text": [
      "[[3343  442]\n",
      " [ 320 3395]]\n",
      "\n",
      "             precision    recall  f1-score   support\n",
      "\n",
      "          0       0.91      0.88      0.90      3785\n",
      "          1       0.88      0.91      0.90      3715\n",
      "\n",
      "avg / total       0.90      0.90      0.90      7500\n",
      "\n"
     ]
    }
   ],
   "source": [
    "print(confusion_matrix(y_test,predictions_test))\n",
    "print(\"\")\n",
    "print(classification_report(y_test,predictions_test))"
   ]
  },
  {
   "cell_type": "markdown",
   "metadata": {},
   "source": [
    "<img src='https://upload.wikimedia.org/wikipedia/commons/thumb/2/26/Precisionrecall.svg/700px-Precisionrecall.svg.png' width=400 />"
   ]
  },
  {
   "cell_type": "markdown",
   "metadata": {
    "collapsed": true
   },
   "source": [
    "Overall a very good performance. \n",
    "- The precision rate tells us how many of our selected items are relevant. We see around 90% with an even balance across categories.\n",
    "- Recall tells us how many relevant items we selected. We see around 90% in our case, again with even balance.\n"
   ]
  },
  {
   "cell_type": "markdown",
   "metadata": {},
   "source": [
    "Let's take a look at some plots of the predictions:"
   ]
  },
  {
   "cell_type": "code",
   "execution_count": 15,
   "metadata": {
    "collapsed": true
   },
   "outputs": [],
   "source": [
    "y_test_preds=rand.predict_proba(X_test)[:, 1]"
   ]
  },
  {
   "cell_type": "code",
   "execution_count": 16,
   "metadata": {},
   "outputs": [
    {
     "data": {
      "text/plain": [
       "<matplotlib.text.Text at 0x7f90c3a83780>"
      ]
     },
     "execution_count": 16,
     "metadata": {},
     "output_type": "execute_result"
    },
    {
     "data": {
      "image/png": "[encoded data removed]",
      "text/plain": [
       "<matplotlib.figure.Figure at 0x7f90be7ca828>"
      ]
     },
     "metadata": {},
     "output_type": "display_data"
    }
   ],
   "source": [
    "import matplotlib.pyplot as plt\n",
    "import seaborn as sns\n",
    "%matplotlib inline\n",
    "\n",
    "# histogram of predicted probabilities\n",
    "plt.hist(y_test_preds, bins=100, color=\"blue\")\n",
    "plt.xlim(0, 1)\n",
    "plt.title('Histogram of predicted probabilities')\n",
    "plt.xlabel('Predicted probability of positive sentiment')\n",
    "plt.ylabel('Frequency')"
   ]
  },
  {
   "cell_type": "code",
   "execution_count": 17,
   "metadata": {},
   "outputs": [
    {
     "data": {
      "image/png": "[encoded data removed]",
      "text/plain": [
       "<matplotlib.figure.Figure at 0x7f90c1b29198>"
      ]
     },
     "metadata": {},
     "output_type": "display_data"
    }
   ],
   "source": [
    "from sklearn import metrics\n",
    "fpr, tpr, thresholds = metrics.roc_curve(y_test, y_test_preds)\n",
    "plt.plot(fpr, tpr)\n",
    "plt.xlim([0.0, 1.0])\n",
    "plt.ylim([0.0, 1.0])\n",
    "plt.title('ROC curve for Film Classifier')\n",
    "plt.xlabel('False Positive Rate (1 - Specificity)')\n",
    "plt.ylabel('True Positive Rate (Sensitivity)')\n",
    "plt.grid(True)"
   ]
  },
  {
   "cell_type": "code",
   "execution_count": 18,
   "metadata": {},
   "outputs": [
    {
     "name": "stdout",
     "output_type": "stream",
     "text": [
      "0.960651363408\n"
     ]
    }
   ],
   "source": [
    "print(metrics.roc_auc_score(y_test, y_test_preds))"
   ]
  },
  {
   "cell_type": "markdown",
   "metadata": {},
   "source": [
    "We see a pretty strong model performance for low effort with area under the curve (auc) of 0.96."
   ]
  },
  {
   "cell_type": "markdown",
   "metadata": {},
   "source": [
    "### Summary"
   ]
  },
  {
   "cell_type": "markdown",
   "metadata": {},
   "source": [
    "- With a small amount of work up front, we can very flexibly explore a wide range of options rapidly.\n",
    "- The pipeline process enabled us to merge complex components into a few lines of code.\n",
    "- We were easily able to vary parameters to optimise model choice.\n",
    "- We got a high model performance with minimal effort. This doesn't mean we can expect this to happen every time but is encouraging."
   ]
  },
  {
   "cell_type": "markdown",
   "metadata": {},
   "source": [
    "### Resources"
   ]
  },
  {
   "cell_type": "markdown",
   "metadata": {},
   "source": [
    "[tfidf wiki](https://en.wikipedia.org/wiki/Tf%E2%80%93idf)\n",
    "\n",
    "[Logisitc regression wiki](https://en.wikipedia.org/wiki/Logistic_regression)\n",
    "\n",
    "[Precision and recall wiki](https://en.wikipedia.org/wiki/Precision_and_recall)\n",
    "\n",
    "[SciKit Learn Tutorial](http://scikit-learn.org/stable/tutorial/text_analytics/working_with_text_data.html)\n",
    "\n",
    "[nltk book](http://www.nltk.org/book/)\n",
    "\n",
    "[ROC Curve Video](http://www.dataschool.io/roc-curves-and-auc-explained/)"
   ]
  },
  {
   "cell_type": "code",
   "execution_count": null,
   "metadata": {
    "collapsed": true
   },
   "outputs": [],
   "source": []
  }
 ],
 "metadata": {
  "anaconda-cloud": {},
  "kernelspec": {
   "display_name": "Python 3",
   "language": "python",
   "name": "python3"
  },
  "language_info": {
   "codemirror_mode": {
    "name": "ipython",
    "version": 3
   },
   "file_extension": ".py",
   "mimetype": "text/x-python",
   "name": "python",
   "nbconvert_exporter": "python",
   "pygments_lexer": "ipython3",
   "version": "3.6.1"
  }
 },
 "nbformat": 4,
 "nbformat_minor": 1
}
