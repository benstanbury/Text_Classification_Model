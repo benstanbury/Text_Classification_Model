{
 "cells": [
  {
   "cell_type": "markdown",
   "metadata": {},
   "source": [
    "# Tfidf Logistic Regression Classifier"
   ]
  },
  {
   "cell_type": "markdown",
   "metadata": {},
   "source": [
    "### Introduction"
   ]
  },
  {
   "cell_type": "markdown",
   "metadata": {},
   "source": [
    "We will take thousands of positve and negative movie reviews and use the infromation predict the sentiment of reviews for which we do not know the sentiment. \n",
    "\n",
    "The sample has been taken [Kaggle]( https://www.kaggle.com/c/word2vec-nlp-tutorial/data) (labelledTrainData.tsv). If you save this file to your desktop and reference the folder on your machine then you should be able to replicate the results. \n",
    "    \n",
    "We will call upon poweful Python libraries **nltk** and **scikitlearn**. We will also use the pipeline process to build a term frequency-inverse document frequency (tfidf) based logistic regression model. We will optimise numerous parameter options and use cross validation methods.\n"
   ]
  },
  {
   "cell_type": "markdown",
   "metadata": {},
   "source": [
    "### Import Packages"
   ]
  },
  {
   "cell_type": "markdown",
   "metadata": {},
   "source": [
    "First we important some key packages. This has been implemented in Python 2.7 which will bring up some annoying warnings so lets hide them."
   ]
  },
  {
   "cell_type": "code",
   "execution_count": 1,
   "metadata": {
    "collapsed": false
   },
   "outputs": [],
   "source": [
    "import pandas as pd\n",
    "import numpy as np\n",
    "import nltk\n",
    "\n",
    "from nltk.corpus import movie_reviews\n",
    "\n",
    "import warnings #Using Python 2.7. There will be some version warnings that we don't need to see.\n",
    "warnings.filterwarnings(\"ignore\")\n",
    "\n",
    "#from sklearn.externals import joblib #I will add this back in when I'm ready to pickle the data."
   ]
  },
  {
   "cell_type": "markdown",
   "metadata": {},
   "source": [
    "### Read data"
   ]
  },
  {
   "cell_type": "markdown",
   "metadata": {},
   "source": [
    "First we go to a particular folder on our local drive and grab all the Excel files. In this example there are two key columns.\n",
    "- A \"Sentiment\" column indicating whether someone liked or disliked the movie.\n",
    "- A \"Review\" column containing the review itself.\n",
    "\n",
    "Lets print the file path of any documents we read."
   ]
  },
  {
   "cell_type": "markdown",
   "metadata": {},
   "source": [
    "Next lets just take a quick look at our data to check everything looks okay."
   ]
  },
  {
   "cell_type": "code",
   "execution_count": 2,
   "metadata": {
    "collapsed": false
   },
   "outputs": [],
   "source": [
    "moviedata = pd.read_csv(\"/home/laptopadmin/Documents/Projects/labeledTrainData.tsv\", header=0, delimiter=\"\\t\", quoting=3)"
   ]
  },
  {
   "cell_type": "code",
   "execution_count": 3,
   "metadata": {
    "collapsed": false
   },
   "outputs": [
    {
     "data": {
      "text/html": [
       "<div>\n",
       "<table border=\"1\" class=\"dataframe\">\n",
       "  <thead>\n",
       "    <tr style=\"text-align: right;\">\n",
       "      <th></th>\n",
       "      <th>id</th>\n",
       "      <th>sentiment</th>\n",
       "      <th>review</th>\n",
       "    </tr>\n",
       "  </thead>\n",
       "  <tbody>\n",
       "    <tr>\n",
       "      <th>0</th>\n",
       "      <td>\"5814_8\"</td>\n",
       "      <td>1</td>\n",
       "      <td>\"With all this stuff going down at the moment ...</td>\n",
       "    </tr>\n",
       "    <tr>\n",
       "      <th>1</th>\n",
       "      <td>\"2381_9\"</td>\n",
       "      <td>1</td>\n",
       "      <td>\"\\\"The Classic War of the Worlds\\\" by Timothy ...</td>\n",
       "    </tr>\n",
       "    <tr>\n",
       "      <th>2</th>\n",
       "      <td>\"7759_3\"</td>\n",
       "      <td>0</td>\n",
       "      <td>\"The film starts with a manager (Nicholas Bell...</td>\n",
       "    </tr>\n",
       "    <tr>\n",
       "      <th>3</th>\n",
       "      <td>\"3630_4\"</td>\n",
       "      <td>0</td>\n",
       "      <td>\"It must be assumed that those who praised thi...</td>\n",
       "    </tr>\n",
       "    <tr>\n",
       "      <th>4</th>\n",
       "      <td>\"9495_8\"</td>\n",
       "      <td>1</td>\n",
       "      <td>\"Superbly trashy and wondrously unpretentious ...</td>\n",
       "    </tr>\n",
       "  </tbody>\n",
       "</table>\n",
       "</div>"
      ],
      "text/plain": [
       "         id  sentiment                                             review\n",
       "0  \"5814_8\"          1  \"With all this stuff going down at the moment ...\n",
       "1  \"2381_9\"          1  \"\\\"The Classic War of the Worlds\\\" by Timothy ...\n",
       "2  \"7759_3\"          0  \"The film starts with a manager (Nicholas Bell...\n",
       "3  \"3630_4\"          0  \"It must be assumed that those who praised thi...\n",
       "4  \"9495_8\"          1  \"Superbly trashy and wondrously unpretentious ..."
      ]
     },
     "execution_count": 3,
     "metadata": {},
     "output_type": "execute_result"
    }
   ],
   "source": [
    "moviedata[0:5]"
   ]
  },
  {
   "cell_type": "markdown",
   "metadata": {},
   "source": [
    "Lets check how much data we have and how evenly split it is."
   ]
  },
  {
   "cell_type": "code",
   "execution_count": 4,
   "metadata": {
    "collapsed": false
   },
   "outputs": [
    {
     "data": {
      "text/html": [
       "<div>\n",
       "<table border=\"1\" class=\"dataframe\">\n",
       "  <thead>\n",
       "    <tr style=\"text-align: right;\">\n",
       "      <th></th>\n",
       "      <th>id</th>\n",
       "      <th>review</th>\n",
       "    </tr>\n",
       "    <tr>\n",
       "      <th>sentiment</th>\n",
       "      <th></th>\n",
       "      <th></th>\n",
       "    </tr>\n",
       "  </thead>\n",
       "  <tbody>\n",
       "    <tr>\n",
       "      <th>0</th>\n",
       "      <td>12500</td>\n",
       "      <td>12500</td>\n",
       "    </tr>\n",
       "    <tr>\n",
       "      <th>1</th>\n",
       "      <td>12500</td>\n",
       "      <td>12500</td>\n",
       "    </tr>\n",
       "  </tbody>\n",
       "</table>\n",
       "</div>"
      ],
      "text/plain": [
       "              id  review\n",
       "sentiment               \n",
       "0          12500   12500\n",
       "1          12500   12500"
      ]
     },
     "execution_count": 4,
     "metadata": {},
     "output_type": "execute_result"
    }
   ],
   "source": [
    "moviedata.groupby(\"sentiment\").count()"
   ]
  },
  {
   "cell_type": "markdown",
   "metadata": {},
   "source": [
    "25,000 items of data, evenly spread"
   ]
  },
  {
   "cell_type": "markdown",
   "metadata": {},
   "source": [
    "### Import more libraries"
   ]
  },
  {
   "cell_type": "markdown",
   "metadata": {},
   "source": [
    "Okay so we've got a bunch of scikit learn stuff to import here. "
   ]
  },
  {
   "cell_type": "code",
   "execution_count": 83,
   "metadata": {
    "collapsed": false
   },
   "outputs": [],
   "source": [
    "from sklearn.pipeline import Pipeline\n",
    "\n",
    "from sklearn.feature_extraction.text import CountVectorizer, TfidfTransformer, TfidfVectorizer\n",
    "\n",
    "from sklearn.cross_validation import train_test_split, cross_val_score #Note train_test_split has moved around depending on the Python version \n",
    "\n",
    "from sklearn.linear_model import LogisticRegression\n",
    "#from sklearn.naive_bayes import MultinomialNB, BernoulliNB\n",
    "#from sklearn.linear_model import SGDClassifier\n",
    "#from sklearn.svm import SVC, LinearSVC, NuSVC\n",
    "#from sklearn.tree import DecisionTreeClassifier\n",
    "\n",
    "from sklearn.model_selection import GridSearchCV\n",
    "\n",
    "from sklearn.metrics import classification_report, confusion_matrix, roc_curve"
   ]
  },
  {
   "cell_type": "markdown",
   "metadata": {},
   "source": [
    "### Test Train Split"
   ]
  },
  {
   "cell_type": "markdown",
   "metadata": {},
   "source": [
    "Next we create our train and test sets. We will use a 65:35 split. The approach here is the standard one used in scikit learn. Once we have our data in X_train, X_test, y_train and y_test we will have an enourmous amount of flexibility wtih what we can do with the data."
   ]
  },
  {
   "cell_type": "code",
   "execution_count": 6,
   "metadata": {
    "collapsed": false
   },
   "outputs": [
    {
     "name": "stdout",
     "output_type": "stream",
     "text": [
      "(16250, 8750, 25000)\n"
     ]
    }
   ],
   "source": [
    "X=moviedata['review']\n",
    "y=moviedata['sentiment']\n",
    "\n",
    "X_train, X_test, y_train, y_test = \\\n",
    "train_test_split(X, y, test_size=0.35)\n",
    "\n",
    "print(len(X_train), len(X_test), len(y_train) + len(y_test))"
   ]
  },
  {
   "cell_type": "markdown",
   "metadata": {},
   "source": [
    "### Tfidf-Logistic Regresison Pipeline"
   ]
  },
  {
   "cell_type": "code",
   "execution_count": 7,
   "metadata": {
    "collapsed": false
   },
   "outputs": [],
   "source": [
    "from nltk.corpus import stopwords\n",
    "stopwords=set(stopwords.words('english'))"
   ]
  },
  {
   "cell_type": "markdown",
   "metadata": {},
   "source": [
    "Blah blah blah. Need a fair bit of explanation here.\n",
    "\n",
    "Warning: This may take a lot of time to run depending on your laptop. You may wish to comment out some of the options to increase speed."
   ]
  },
  {
   "cell_type": "code",
   "execution_count": 8,
   "metadata": {
    "collapsed": false
   },
   "outputs": [
    {
     "data": {
      "text/plain": [
       "GridSearchCV(cv=5, error_score='raise',\n",
       "       estimator=Pipeline(steps=[('vec', CountVectorizer(analyzer=u'word', binary=False, decode_error=u'strict',\n",
       "        dtype=<type 'numpy.int64'>, encoding=u'utf-8', input=u'content',\n",
       "        lowercase=True, max_df=1.0, max_features=None, min_df=1,\n",
       "        ngram_range=(1, 1), preprocessor=None,\n",
       "        stop_words=set([u'al...ty='l2', random_state=None, solver='liblinear', tol=0.0001,\n",
       "          verbose=0, warm_start=False))]),\n",
       "       fit_params={}, iid=True, n_jobs=1,\n",
       "       param_grid={'vec__ngram_range': [(1, 1), (1, 2), (1, 3)], 'vec__min_df': [3, 4], 'classifier__C': [1, 10, 20]},\n",
       "       pre_dispatch='2*n_jobs', refit=True, return_train_score=True,\n",
       "       scoring=None, verbose=0)"
      ]
     },
     "execution_count": 8,
     "metadata": {},
     "output_type": "execute_result"
    }
   ],
   "source": [
    "pipeline = Pipeline([\n",
    "    ('vec', CountVectorizer(stop_words=stopwords)), \n",
    "    ('tfidf', TfidfTransformer()), \n",
    "    ('classifier', LogisticRegression())  \n",
    "])\n",
    "\n",
    "\n",
    "ngram_range=[(1, 1), (1, 2), (1,3)] #try single words, bigrams and trigrams\n",
    "min_df=[3,4] #kick out words that occur less than 3 or 4 times\n",
    "#t_norm=['l1','l2']\n",
    "#bernouli=[True, False]\n",
    "#stops=[True, False]\n",
    "Cs = [1, 10, 20] #Regularisation paramater on the logistic regression\n",
    "\n",
    "estimator = GridSearchCV(pipeline,\n",
    "                         dict(vec__ngram_range=ngram_range, \n",
    "                              vec__min_df=min_df,\n",
    "                              #vec__stop_words=stops, #I'm pretty sure this isn't working properly\n",
    "                              #tfidf__norm=t_norm, \n",
    "                              #tfidf__use_idf=bernouli,\n",
    "                              classifier__C=Cs),cv=5)\n",
    "\n",
    "\n",
    "estimator.fit(X_train, y_train)\n",
    "\n",
    "#I might add a timer here...\n",
    "# import time\n",
    "# start_time = time.time()\n",
    "# main()\n",
    "# print(\"--- %s seconds ---\" % (time.time() - start_time))\n",
    "\n",
    "#To run other models can replace the classifier using any of the following lines:\n",
    "#('classifier', Logistic Regression())\n",
    "#('classifier', MultinomialNB())\n",
    "#('classifier', BernoulliNB())\n",
    "#('classifier', SGDClassifier())  \n",
    "#('classifier', SVC()) \n",
    "#('classifier', LinearSVC())\n",
    "#('classifier', DecisionTreeClassifier()) "
   ]
  },
  {
   "cell_type": "markdown",
   "metadata": {},
   "source": [
    "### Model Review"
   ]
  },
  {
   "cell_type": "markdown",
   "metadata": {},
   "source": [
    "We can take a look at the results of the numerous permutations of parameter cobinations."
   ]
  },
  {
   "cell_type": "code",
   "execution_count": 9,
   "metadata": {
    "collapsed": false
   },
   "outputs": [
    {
     "data": {
      "text/plain": [
       "[mean: 0.88142, std: 0.00331, params: {'vec__ngram_range': (1, 1), 'vec__min_df': 3, 'classifier__C': 1},\n",
       " mean: 0.88222, std: 0.00420, params: {'vec__ngram_range': (1, 2), 'vec__min_df': 3, 'classifier__C': 1},\n",
       " mean: 0.88363, std: 0.00369, params: {'vec__ngram_range': (1, 3), 'vec__min_df': 3, 'classifier__C': 1},\n",
       " mean: 0.88111, std: 0.00327, params: {'vec__ngram_range': (1, 1), 'vec__min_df': 4, 'classifier__C': 1},\n",
       " mean: 0.88314, std: 0.00375, params: {'vec__ngram_range': (1, 2), 'vec__min_df': 4, 'classifier__C': 1},\n",
       " mean: 0.88412, std: 0.00405, params: {'vec__ngram_range': (1, 3), 'vec__min_df': 4, 'classifier__C': 1},\n",
       " mean: 0.88246, std: 0.00327, params: {'vec__ngram_range': (1, 1), 'vec__min_df': 3, 'classifier__C': 10},\n",
       " mean: 0.89225, std: 0.00532, params: {'vec__ngram_range': (1, 2), 'vec__min_df': 3, 'classifier__C': 10},\n",
       " mean: 0.89335, std: 0.00500, params: {'vec__ngram_range': (1, 3), 'vec__min_df': 3, 'classifier__C': 10},\n",
       " mean: 0.88092, std: 0.00283, params: {'vec__ngram_range': (1, 1), 'vec__min_df': 4, 'classifier__C': 10},\n",
       " mean: 0.89200, std: 0.00461, params: {'vec__ngram_range': (1, 2), 'vec__min_df': 4, 'classifier__C': 10},\n",
       " mean: 0.89280, std: 0.00450, params: {'vec__ngram_range': (1, 3), 'vec__min_df': 4, 'classifier__C': 10},\n",
       " mean: 0.88142, std: 0.00318, params: {'vec__ngram_range': (1, 1), 'vec__min_df': 3, 'classifier__C': 20},\n",
       " mean: 0.89243, std: 0.00524, params: {'vec__ngram_range': (1, 2), 'vec__min_df': 3, 'classifier__C': 20},\n",
       " mean: 0.89335, std: 0.00471, params: {'vec__ngram_range': (1, 3), 'vec__min_df': 3, 'classifier__C': 20},\n",
       " mean: 0.87975, std: 0.00236, params: {'vec__ngram_range': (1, 1), 'vec__min_df': 4, 'classifier__C': 20},\n",
       " mean: 0.89083, std: 0.00489, params: {'vec__ngram_range': (1, 2), 'vec__min_df': 4, 'classifier__C': 20},\n",
       " mean: 0.89225, std: 0.00471, params: {'vec__ngram_range': (1, 3), 'vec__min_df': 4, 'classifier__C': 20}]"
      ]
     },
     "execution_count": 9,
     "metadata": {},
     "output_type": "execute_result"
    }
   ],
   "source": [
    "estimator.grid_scores_"
   ]
  },
  {
   "cell_type": "markdown",
   "metadata": {},
   "source": [
    "Lets look at the first result in more detail. Lets see what parameters were fitted. What the cross validation scores were and what the mean score was."
   ]
  },
  {
   "cell_type": "code",
   "execution_count": 10,
   "metadata": {
    "collapsed": false
   },
   "outputs": [
    {
     "name": "stdout",
     "output_type": "stream",
     "text": [
      "{'vec__ngram_range': (1, 1), 'vec__min_df': 3, 'classifier__C': 1}\n",
      "[ 0.88276923  0.88553846  0.87569231  0.88030769  0.88276923]\n",
      "0.881415384615\n"
     ]
    }
   ],
   "source": [
    "print(estimator.grid_scores_[0].parameters)\n",
    "print(estimator.grid_scores_[0].cv_validation_scores)\n",
    "print(estimator.grid_scores_[0].mean_validation_score)"
   ]
  },
  {
   "cell_type": "markdown",
   "metadata": {},
   "source": [
    "Okay so this one was okay but it wasn't the best. Let's take a look at the best results."
   ]
  },
  {
   "cell_type": "code",
   "execution_count": 11,
   "metadata": {
    "collapsed": false
   },
   "outputs": [
    {
     "name": "stdout",
     "output_type": "stream",
     "text": [
      "0.893353846154\n",
      "{'vec__ngram_range': (1, 3), 'vec__min_df': 3, 'classifier__C': 10}\n"
     ]
    }
   ],
   "source": [
    "# examine the best model\n",
    "print(estimator.best_score_)\n",
    "print(estimator.best_params_)"
   ]
  },
  {
   "cell_type": "markdown",
   "metadata": {},
   "source": [
    "We will now take this favoured model. Run it on the train and test sets and look at some classification stats. [DN: Does this makes sense?! Surely if I've used CV they that is enough and I don't need to go back to a single test set. On the otherhand it makes classification easy. I must clarify this!]"
   ]
  },
  {
   "cell_type": "markdown",
   "metadata": {},
   "source": [
    "### Model Evaluation"
   ]
  },
  {
   "cell_type": "code",
   "execution_count": 12,
   "metadata": {
    "collapsed": false
   },
   "outputs": [],
   "source": [
    "predictions_train=estimator.predict(X_train)\n",
    "predictions_test=estimator.predict(X_test)"
   ]
  },
  {
   "cell_type": "code",
   "execution_count": 13,
   "metadata": {
    "collapsed": false
   },
   "outputs": [
    {
     "name": "stdout",
     "output_type": "stream",
     "text": [
      "[[8039    6]\n",
      " [   9 8196]]\n",
      " \n",
      "             precision    recall  f1-score   support\n",
      "\n",
      "          0       1.00      1.00      1.00      8045\n",
      "          1       1.00      1.00      1.00      8205\n",
      "\n",
      "avg / total       1.00      1.00      1.00     16250\n",
      "\n"
     ]
    }
   ],
   "source": [
    "print(confusion_matrix(y_train,predictions_train))\n",
    "print(' ')\n",
    "print(classification_report(y_train,predictions_train))"
   ]
  },
  {
   "cell_type": "markdown",
   "metadata": {},
   "source": [
    "We see a near perfect fit on the train data. This is because we have created a vast model with many terms. This is heavily overfitted. Lets see how it does on the test set."
   ]
  },
  {
   "cell_type": "markdown",
   "metadata": {},
   "source": [
    "I need some markdown to say what I'm doing in this section!"
   ]
  },
  {
   "cell_type": "code",
   "execution_count": 14,
   "metadata": {
    "collapsed": true
   },
   "outputs": [],
   "source": [
    "predictions_train = estimator.predict(X_train)"
   ]
  },
  {
   "cell_type": "code",
   "execution_count": 15,
   "metadata": {
    "collapsed": true
   },
   "outputs": [],
   "source": [
    "predictions_test = estimator.predict(X_test)"
   ]
  },
  {
   "cell_type": "code",
   "execution_count": 16,
   "metadata": {
    "collapsed": false
   },
   "outputs": [
    {
     "name": "stdout",
     "output_type": "stream",
     "text": [
      "[[3961  494]\n",
      " [ 359 3936]]\n",
      "\n",
      "             precision    recall  f1-score   support\n",
      "\n",
      "          0       0.92      0.89      0.90      4455\n",
      "          1       0.89      0.92      0.90      4295\n",
      "\n",
      "avg / total       0.90      0.90      0.90      8750\n",
      "\n"
     ]
    }
   ],
   "source": [
    "print(confusion_matrix(y_test,predictions_test))\n",
    "print(\"\")\n",
    "print(classification_report(y_test,predictions_test))"
   ]
  },
  {
   "cell_type": "markdown",
   "metadata": {},
   "source": [
    "<img src='https://upload.wikimedia.org/wikipedia/commons/thumb/2/26/Precisionrecall.svg/700px-Precisionrecall.svg.png' width=400 />"
   ]
  },
  {
   "cell_type": "markdown",
   "metadata": {
    "collapsed": true
   },
   "source": [
    "Overall a pretty good performance. \n",
    "- The precision rate tells us how many of our selected items are relevant. Here we see around 90% with an even balance across categories.\n",
    "- Recall tells us how many relevant items we selected. We see around 90% in our case, again with even balance.\n"
   ]
  },
  {
   "cell_type": "code",
   "execution_count": 80,
   "metadata": {
    "collapsed": false
   },
   "outputs": [],
   "source": [
    "y_test_preds=estimator.predict_proba(X_test)[:, 1]"
   ]
  },
  {
   "cell_type": "code",
   "execution_count": 81,
   "metadata": {
    "collapsed": false
   },
   "outputs": [
    {
     "data": {
      "text/plain": [
       "<matplotlib.text.Text at 0x7f8dc694ca10>"
      ]
     },
     "execution_count": 81,
     "metadata": {},
     "output_type": "execute_result"
    },
    {
     "data": {
      "image/png": "[encoded data removed]",
      "text/plain": [
       "<matplotlib.figure.Figure at 0x7f8dd100a050>"
      ]
     },
     "metadata": {},
     "output_type": "display_data"
    }
   ],
   "source": [
    "# allow plots to appear in the notebook\n",
    "import matplotlib.pyplot as plt\n",
    "import seaborn as sns\n",
    "\n",
    "# histogram of predicted probabilities\n",
    "plt.hist(y_test_preds, bins=100, color=\"blue\")\n",
    "plt.xlim(0, 1)\n",
    "plt.title('Histogram of predicted probabilities')\n",
    "plt.xlabel('Predicted probability of positive sentiment')\n",
    "plt.ylabel('Frequency')"
   ]
  },
  {
   "cell_type": "code",
   "execution_count": 88,
   "metadata": {
    "collapsed": false
   },
   "outputs": [
    {
     "data": {
      "image/png": "[encoded data removed]",
      "text/plain": [
       "<matplotlib.figure.Figure at 0x7f8dc6bd59d0>"
      ]
     },
     "metadata": {},
     "output_type": "display_data"
    }
   ],
   "source": [
    "from sklearn import metrics\n",
    "fpr, tpr, thresholds = metrics.roc_curve(y_test, y_test_preds)\n",
    "plt.plot(fpr, tpr)\n",
    "plt.xlim([0.0, 1.0])\n",
    "plt.ylim([0.0, 1.0])\n",
    "plt.title('ROC curve for Film Classifier')\n",
    "plt.xlabel('False Positive Rate (1 - Specificity)')\n",
    "plt.ylabel('True Positive Rate (Sensitivity)')\n",
    "plt.grid(True)"
   ]
  },
  {
   "cell_type": "code",
   "execution_count": 87,
   "metadata": {
    "collapsed": false
   },
   "outputs": [
    {
     "name": "stdout",
     "output_type": "stream",
     "text": [
      "0.96506767324\n"
     ]
    }
   ],
   "source": [
    "print(metrics.roc_auc_score(y_test, y_test_preds))"
   ]
  },
  {
   "cell_type": "markdown",
   "metadata": {},
   "source": [
    "## Resources"
   ]
  },
  {
   "cell_type": "markdown",
   "metadata": {},
   "source": [
    "[tfidf wiki](https://en.wikipedia.org/wiki/Tf%E2%80%93idf)\n",
    "\n",
    "[Logisitc regression wiki](https://en.wikipedia.org/wiki/Logistic_regression)\n",
    "\n",
    "[Precision and recall wiki](https://en.wikipedia.org/wiki/Precision_and_recall)\n",
    "\n",
    "[SciKit Learn's Tutorial](http://scikit-learn.org/stable/tutorial/text_analytics/working_with_text_data.html)\n",
    "\n",
    "[nltk book](http://www.nltk.org/book/)\n",
    "\n",
    "[ROC Curve Video](http://www.dataschool.io/roc-curves-and-auc-explained/)"
   ]
  }
 ],
 "metadata": {
  "anaconda-cloud": {},
  "kernelspec": {
   "display_name": "Python 2",
   "language": "python",
   "name": "python2"
  },
  "language_info": {
   "codemirror_mode": {
    "name": "ipython",
    "version": 2
   },
   "file_extension": ".py",
   "mimetype": "text/x-python",
   "name": "python",
   "nbconvert_exporter": "python",
   "pygments_lexer": "ipython2",
   "version": "2.7.13"
  }
 },
 "nbformat": 4,
 "nbformat_minor": 1
}
